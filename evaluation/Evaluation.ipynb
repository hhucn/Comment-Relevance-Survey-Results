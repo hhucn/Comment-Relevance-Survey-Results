{
 "cells": [
  {
   "cell_type": "code",
   "execution_count": 1,
   "outputs": [],
   "source": [
    "import pandas as pd\n",
    "\n",
    "from evaluation.Answer.ExpectedAnswer import ExpectedAnswer\n",
    "from evaluation.Utility.parser_utility import parse_code_book, parse_users, set_expected_answers, filter_reliable_users, \\\n",
    "    create_expected_answers, add_answer_frequencies, create_hypotheses, print_demographic\n",
    "\n",
    "\n"
   ],
   "metadata": {
    "collapsed": false
   }
  },
  {
   "cell_type": "markdown",
   "source": [
    "# Read Code Book"
   ],
   "metadata": {
    "collapsed": false
   }
  },
  {
   "cell_type": "code",
   "execution_count": 2,
   "outputs": [],
   "source": [
    "CODE_BOOK_PATH = \"/home/jan/Promotion/Projects/Comment-Centric-Comment-Recommendation/RelevanceModel/Survey/survey-auswertung/evaluation/SurveyResults/codebook_project.csv\""
   ],
   "metadata": {
    "collapsed": false
   }
  },
  {
   "cell_type": "code",
   "execution_count": 3,
   "outputs": [],
   "source": [
    "with open(CODE_BOOK_PATH) as code_book:\n",
    "    hypotheses_pages = parse_code_book(code_book.readlines())"
   ],
   "metadata": {
    "collapsed": false
   }
  },
  {
   "cell_type": "code",
   "execution_count": 4,
   "outputs": [
    {
     "data": {
      "text/plain": "'4.1.1.1 Seite: H1: Chia Seeds Pro'"
     },
     "execution_count": 4,
     "metadata": {},
     "output_type": "execute_result"
    }
   ],
   "source": [
    "hypotheses_pages[0]._hypothesis_text"
   ],
   "metadata": {
    "collapsed": false
   }
  },
  {
   "cell_type": "markdown",
   "source": [
    "# Read Survey Results"
   ],
   "metadata": {
    "collapsed": false
   }
  },
  {
   "cell_type": "code",
   "execution_count": 5,
   "outputs": [],
   "source": [
    "SURVEY_RESULTS_PATH = \"/home/jan/Promotion/Projects/Comment-Centric-Comment-Recommendation/RelevanceModel/Survey/survey-auswertung/evaluation/SurveyResults/survey_results.csv\""
   ],
   "metadata": {
    "collapsed": false
   }
  },
  {
   "cell_type": "code",
   "execution_count": 6,
   "outputs": [],
   "source": [
    "users = parse_users(pd.read_csv(SURVEY_RESULTS_PATH, na_values=[-66, -77, -88, -99, 0, \"0000-00-00 00:00:00\"], delimiter=\";\"))"
   ],
   "metadata": {
    "collapsed": false
   }
  },
  {
   "cell_type": "markdown",
   "source": [
    "# Filter Unreliable User"
   ],
   "metadata": {
    "collapsed": false
   }
  },
  {
   "cell_type": "code",
   "execution_count": 7,
   "outputs": [
    {
     "name": "stdout",
     "output_type": "stream",
     "text": [
      "user with code 686 unreliable, got 1 of 3 control questions right\n",
      "user with code 377 unreliable, got 1 of 3 control questions right\n",
      "user with code 851 unreliable, got 1 of 3 control questions right\n",
      "user with code 771 unreliable, got 1 of 3 control questions right\n",
      "user with code 259 unreliable, got 0 of 3 control questions right\n",
      "user with code 374 unreliable, got 1 of 3 control questions right\n",
      "user with code 175 unreliable, got 1 of 3 control questions right\n",
      "user with code 784 unreliable, got 1 of 3 control questions right\n",
      "user with code 594 unreliable, got 1 of 3 control questions right\n",
      "user with code 990 unreliable, got 3 of 6 control questions right\n",
      "user with code 703 unreliable, got 2 of 6 control questions right\n",
      "user with code 335 unreliable, got 3 of 6 control questions right\n",
      "user with code 376 unreliable, got 2 of 6 control questions right\n",
      "user with code 625 unreliable, got 3 of 6 control questions right\n",
      "user with code 657 unreliable, got 0 of 6 control questions right\n",
      "user with code 637 unreliable, got 0 of 6 control questions right\n",
      "user with code 118 unreliable, got 1 of 6 control questions right\n",
      "user with code 193 unreliable, got 2 of 6 control questions right\n",
      "user with code 821 unreliable, got 3 of 6 control questions right\n",
      "user with code 800 unreliable, got 3 of 6 control questions right\n",
      "user with code 463 unreliable, got 3 of 6 control questions right\n",
      "user with code 769 unreliable, got 2 of 6 control questions right\n",
      "user with code 613 unreliable, got 2 of 6 control questions right\n",
      "user with code 831 unreliable, got 1 of 6 control questions right\n",
      "user with code 220 unreliable, got 3 of 6 control questions right\n",
      "user with code 256 unreliable, got 2 of 6 control questions right\n",
      "user with code 315 unreliable, got 0 of 6 control questions right\n",
      "user with code 714 unreliable, got 1 of 6 control questions right\n",
      "user with code 728 unreliable, got 2 of 6 control questions right\n",
      "user with code 114 unreliable, got 0 of 6 control questions right\n",
      "user with code 813 unreliable, got 3 of 6 control questions right\n",
      "user with code 357 unreliable, got 1 of 6 control questions right\n",
      "user with code 4 unreliable, got 0 of 6 control questions right\n",
      "user with code 528 unreliable, got 3 of 6 control questions right\n",
      "user with code 503 unreliable, got 2 of 6 control questions right\n",
      "user with code 456 unreliable, got 1 of 6 control questions right\n",
      "user with code 382 unreliable, got 3 of 6 control questions right\n",
      "user with code 938 unreliable, got 3 of 6 control questions right\n",
      "user with code 11 unreliable, got 0 of 6 control questions right\n",
      "user with code 142 unreliable, got 2 of 6 control questions right\n",
      "user with code 771 unreliable, got 1 of 6 control questions right\n",
      "user with code 523 unreliable, got 3 of 6 control questions right\n",
      "user with code 68 unreliable, got 2 of 6 control questions right\n",
      "user with code 336 unreliable, got 2 of 6 control questions right\n",
      "user with code 184 unreliable, got 0 of 6 control questions right\n",
      "user with code 992 unreliable, got 2 of 6 control questions right\n",
      "36 of 82 users reliable\n"
     ]
    }
   ],
   "source": [
    "# Expected answers for control questions\n",
    "expected_answers = [ExpectedAnswer(\"v_392\", \"Alice\"), ExpectedAnswer(\"v_393\", \"Alice\"), ExpectedAnswer(\"v_394\", \"Bob\"),\n",
    "                    ExpectedAnswer(\"v_447\", \"Alice\"), ExpectedAnswer(\"v_448\", \"Alice\"), ExpectedAnswer(\"v_449\", \"Bob\")]\n",
    "set_expected_answers(hypotheses_pages, expected_answers)\n",
    "reliable_users =  filter_reliable_users(hypotheses_pages, users)"
   ],
   "metadata": {
    "collapsed": false
   }
  },
  {
   "cell_type": "markdown",
   "source": [
    "# Hypothesis 1 - Set Expected Answers"
   ],
   "metadata": {
    "collapsed": false
   }
  },
  {
   "cell_type": "code",
   "execution_count": 8,
   "outputs": [],
   "source": [
    "h1_expected_answers = create_expected_answers([\n",
    "    [[\"v_362\", \"v_395\", \"v_398\", \"v_402\", \"v_405\", \"v_408\"], \"Not Relevant\"],\n",
    "    [[\"v_363\", \"v_396\", \"v_399\", \"v_403\", \"v_406\", \"v_409\"], \"Not Relevant\"],\n",
    "    [[\"v_364\", \"v_397\", \"v_400\", \"v_404\", \"v_407\", \"v_410\"], \"Relevant\"]])\n",
    "\n",
    "set_expected_answers(hypotheses_pages, h1_expected_answers)"
   ],
   "metadata": {
    "collapsed": false
   }
  },
  {
   "cell_type": "markdown",
   "source": [
    "# Hypothesis 2 - Set Expected Answers"
   ],
   "metadata": {
    "collapsed": false
   }
  },
  {
   "cell_type": "code",
   "execution_count": 9,
   "outputs": [],
   "source": [
    "h2_expected_answers =  create_expected_answers([\n",
    "    [[\"v_113\", \"v_116\", \"v_119\", \"v_122\", \"v_125\", \"v_130\"], \"Alice>Charlie\"],\n",
    "    [[\"v_114\", \"v_117\", \"v_120\", \"v_123\", \"v_126\", \"v_128\"], \"Alice>Charlie\"],\n",
    "    [[\"v_115\", \"v_118\", \"v_121\", \"v_124\", \"v_127\", \"v_129\"], \"Bob>Charlie\"]])\n",
    "\n",
    "set_expected_answers(hypotheses_pages, h2_expected_answers)"
   ],
   "metadata": {
    "collapsed": false
   }
  },
  {
   "cell_type": "markdown",
   "source": [
    "# Hypothesis 3 - Set Expected Answers"
   ],
   "metadata": {
    "collapsed": false
   }
  },
  {
   "cell_type": "code",
   "execution_count": 10,
   "outputs": [],
   "source": [
    "h3_expected_answers =  create_expected_answers([\n",
    "    [[\"v_23\", \"v_26\", \"v_29\", \"v_32\", \"v_35\", \"v_38\"], \"Bob>Alice\"],\n",
    "    [[\"v_24\", \"v_27\", \"v_30\", \"v_33\", \"v_36\", \"v_39\"], \"Alice>Charlie\"],\n",
    "    [[\"v_25\", \"v_28\", \"v_31\", \"v_34\", \"v_37\", \"v_40\"], \"Bob>Charlie\"]])\n",
    "\n",
    "set_expected_answers(hypotheses_pages, h3_expected_answers)"
   ],
   "metadata": {
    "collapsed": false
   }
  },
  {
   "cell_type": "markdown",
   "source": [
    "# Hypothesis 4 - Set Expected Answers"
   ],
   "metadata": {
    "collapsed": false
   }
  },
  {
   "cell_type": "code",
   "execution_count": 11,
   "outputs": [],
   "source": [
    "h4_expected_answers = create_expected_answers([\n",
    "    [[\"v_132\", \"v_135\", \"v_138\", \"v_141\", \"v_144\", \"v_147\", \"v_276\", \"v_279\"], \"Bob>Alice\"],\n",
    "    [[\"v_131\", \"v_134\", \"v_137\", \"v_140\", \"v_143\", \"v_146\", \"v_277\", \"v_280\"], \"Charlie>Alice\"],\n",
    "    [[\"v_133\", \"v_136\", \"v_139\", \"v_142\", \"v_145\", \"v_148\", \"v_278\", \"v_281\"], \"Charlie>Bob\"]])\n",
    "\n",
    "set_expected_answers(hypotheses_pages, h4_expected_answers)"
   ],
   "metadata": {
    "collapsed": false
   }
  },
  {
   "cell_type": "markdown",
   "source": [
    "# Hypothesis 5 - Set Expected Answers"
   ],
   "metadata": {
    "collapsed": false
   }
  },
  {
   "cell_type": "code",
   "execution_count": 12,
   "outputs": [],
   "source": [
    "h5_expected_answers = create_expected_answers([\n",
    "    [[\"v_149\", \"v_152\", \"v_155\", \"v_158\", \"v_161\", \"v_164\"], \"Alice>Bob\"],\n",
    "    [[\"v_150\", \"v_153\", \"v_156\", \"v_159\", \"v_162\", \"v_165\"], \"Alice>Charlie\"],\n",
    "    [[\"v_151\", \"v_154\", \"v_157\", \"v_160\", \"v_163\", \"v_166\"], \"Bob>Charlie\"]])\n",
    "\n",
    "set_expected_answers(hypotheses_pages, h5_expected_answers)"
   ],
   "metadata": {
    "collapsed": false
   }
  },
  {
   "cell_type": "markdown",
   "source": [
    "# Hypothesis 6 - Set Expected Answers"
   ],
   "metadata": {
    "collapsed": false
   }
  },
  {
   "cell_type": "code",
   "execution_count": 13,
   "outputs": [],
   "source": [
    "h6_expected_answers =  create_expected_answers([\n",
    "    [[\"v_167\", \"v_171\", \"v_174\", \"v_177\", \"v_180\", \"v_183\"], \"Bob>Alice\"],\n",
    "    [[\"v_168\", \"v_172\", \"v_175\", \"v_178\", \"v_181\", \"v_184\"], \"Charlie>Alice\"],\n",
    "    [[\"v_170\", \"v_173\", \"v_176\", \"v_179\", \"v_182\", \"v_185\"], \"Charlie>Bob\"]])\n",
    "\n",
    "set_expected_answers(hypotheses_pages, h6_expected_answers)"
   ],
   "metadata": {
    "collapsed": false
   }
  },
  {
   "cell_type": "markdown",
   "source": [
    "# Hypothesis 7 - Set Expected Answer"
   ],
   "metadata": {
    "collapsed": false
   }
  },
  {
   "cell_type": "code",
   "execution_count": 14,
   "outputs": [],
   "source": [
    "h7_expected_answers = create_expected_answers([\n",
    "    [[\"v_186\", \"v_189\", \"v_192\", \"v_195\", \"v_198\", \"v_201\"], \"Alice>Bob\"],\n",
    "    [[\"v_187\", \"v_190\", \"v_193\", \"v_196\", \"v_199\", \"v_202\"], \"Charlie>Alice\"],\n",
    "    [[\"v_188\", \"v_191\", \"v_194\", \"v_197\", \"v_200\", \"v_203\"], \"Charlie>Bob\"]])\n",
    "\n",
    "set_expected_answers(hypotheses_pages, h7_expected_answers)"
   ],
   "metadata": {
    "collapsed": false
   }
  },
  {
   "cell_type": "markdown",
   "source": [
    "# Hypothesis 8 - Set Expected Answer"
   ],
   "metadata": {
    "collapsed": false
   }
  },
  {
   "cell_type": "code",
   "execution_count": 15,
   "outputs": [],
   "source": [
    "h8_expected_answers = create_expected_answers([\n",
    "    [[\"v_282\", \"v_285\", \"v_288\", \"v_291\", \"v_295\", \"v_298\"], \"Bob>Alice\"],\n",
    "    [[\"v_284\", \"v_286\", \"v_289\", \"v_292\", \"v_296\", \"v_299\"], \"Charlie>Alice\"],\n",
    "    [[\"v_283\", \"v_287\", \"v_290\", \"v_294\", \"v_297\", \"v_300\"], \"Equally\"]])\n",
    "\n",
    "set_expected_answers(hypotheses_pages, h8_expected_answers)"
   ],
   "metadata": {
    "collapsed": false
   }
  },
  {
   "cell_type": "markdown",
   "source": [
    "# Hypothesis 9 - Set Expected Answer"
   ],
   "metadata": {
    "collapsed": false
   }
  },
  {
   "cell_type": "code",
   "execution_count": 16,
   "outputs": [],
   "source": [
    "h9_expected_answers = create_expected_answers([\n",
    "    [[\"v_204\", \"v_207\", \"v_210\", \"v_213\", \"v_216\", \"v_219\"], \"Bob>Alice\"],\n",
    "    [[\"v_205\", \"v_208\", \"v_211\", \"v_214\", \"v_217\", \"v_220\"], \"Charlie>Alice\"],\n",
    "    [[\"v_206\", \"v_341\", \"v_212\", \"v_215\", \"v_218\", \"v_221\"], \"Charlie>Bob\"]])\n",
    "\n",
    "set_expected_answers(hypotheses_pages, h9_expected_answers)"
   ],
   "metadata": {
    "collapsed": false
   }
  },
  {
   "cell_type": "markdown",
   "source": [
    "# Hypothesis 10 - Set Expected Answer"
   ],
   "metadata": {
    "collapsed": false
   }
  },
  {
   "cell_type": "code",
   "execution_count": 17,
   "outputs": [],
   "source": [
    "h10_expected_answers = create_expected_answers([\n",
    "    [[\"v_222\", \"v_225\", \"v_228\", \"v_231\", \"v_234\", \"v_237\"], \"Bob>Alice\"],\n",
    "    [[\"v_223\", \"v_226\", \"v_229\", \"v_232\", \"v_235\", \"v_238\"], \"Alice>Charlie\"],\n",
    "    [[\"v_224\", \"v_227\", \"v_230\", \"v_233\", \"v_236\", \"v_239\"], \"Bob>Charlie\"]])\n",
    "\n",
    "set_expected_answers(hypotheses_pages, h10_expected_answers)"
   ],
   "metadata": {
    "collapsed": false
   }
  },
  {
   "cell_type": "markdown",
   "source": [
    "# Hypothesis 11 - Set Expected Answer"
   ],
   "metadata": {
    "collapsed": false
   }
  },
  {
   "cell_type": "code",
   "execution_count": 18,
   "outputs": [],
   "source": [
    "h11_expected_answers = create_expected_answers([\n",
    "    [[\"v_240\", \"v_243\", \"v_246\", \"v_249\", \"v_252\", \"v_255\"], \"Bob>Alice\"],\n",
    "    [[\"v_241\", \"v_244\", \"v_247\", \"v_250\", \"v_253\", \"v_256\"], \"Charlie>Alice\"],\n",
    "    [[\"v_242\", \"v_245\", \"v_248\", \"v_251\", \"v_254\", \"v_257\"], \"Charlie>Bob\"]])\n",
    "\n",
    "set_expected_answers(hypotheses_pages, h11_expected_answers)"
   ],
   "metadata": {
    "collapsed": false
   }
  },
  {
   "cell_type": "markdown",
   "source": [
    "# Hypothesis 12 - Set Expected Answer"
   ],
   "metadata": {
    "collapsed": false
   }
  },
  {
   "cell_type": "code",
   "execution_count": 19,
   "outputs": [],
   "source": [
    "h12_expected_answers = create_expected_answers([\n",
    "    [[\"v_258\", \"v_261\", \"v_264\", \"v_267\", \"v_270\", \"v_273\"], \"Alice>Bob\"],\n",
    "    [[\"v_259\", \"v_262\", \"v_265\", \"v_268\", \"v_271\", \"v_274\"], \"Alice>Charlie\"],\n",
    "    [[\"v_260\", \"v_263\", \"v_266\", \"v_269\", \"v_272\", \"v_275\"], \"Charlie>Bob\"]])\n",
    "\n",
    "set_expected_answers(hypotheses_pages, h12_expected_answers)"
   ],
   "metadata": {
    "collapsed": false
   }
  },
  {
   "cell_type": "markdown",
   "source": [
    "# Hypothesis 13 - Set Expected Answer"
   ],
   "metadata": {
    "collapsed": false
   }
  },
  {
   "cell_type": "code",
   "execution_count": 20,
   "outputs": [],
   "source": [
    "h13_expected_answers = create_expected_answers([\n",
    "    [[\"v_301\", \"v_304\", \"v_307\", \"v_310\", \"v_313\", \"v_316\"], \"Bob>Alice\"],\n",
    "    [[\"v_302\", \"v_305\", \"v_308\", \"v_311\", \"v_314\", \"v_317\"], \"Charlie>Alice\"],\n",
    "    [[\"v_303\", \"v_306\", \"v_309\", \"v_312\", \"v_315\", \"v_318\"], \"Bob>Charlie\"]])\n",
    "\n",
    "set_expected_answers(hypotheses_pages, h13_expected_answers)"
   ],
   "metadata": {
    "collapsed": false
   }
  },
  {
   "cell_type": "markdown",
   "source": [
    "# Hypothesis 14 - Set Expected Answer"
   ],
   "metadata": {
    "collapsed": false
   }
  },
  {
   "cell_type": "code",
   "execution_count": 21,
   "outputs": [],
   "source": [
    "h14_expected_answers = create_expected_answers([\n",
    "    [[\"v_411\", \"v_417\", \"v_423\", \"v_429\", \"v_435\", \"v_441\"], \"Bob>Alice\"],\n",
    "    [[\"v_412\", \"v_418\", \"v_424\", \"v_430\", \"v_436\", \"v_442\"], \"Charlie>Alice\"],\n",
    "    [[\"v_414\", \"v_419\", \"v_426\", \"v_432\", \"v_438\", \"v_444\"], \"Equally\"]])\n",
    "\n",
    "set_expected_answers(hypotheses_pages, h14_expected_answers)"
   ],
   "metadata": {
    "collapsed": false
   }
  },
  {
   "cell_type": "markdown",
   "source": [
    "# Count Answer Frequencies"
   ],
   "metadata": {
    "collapsed": false
   }
  },
  {
   "cell_type": "code",
   "execution_count": 22,
   "outputs": [],
   "source": [
    "add_answer_frequencies(hypotheses_pages, reliable_users)"
   ],
   "metadata": {
    "collapsed": false
   }
  },
  {
   "cell_type": "markdown",
   "source": [
    "# Create Hypotheses"
   ],
   "metadata": {
    "collapsed": false
   }
  },
  {
   "cell_type": "code",
   "execution_count": 23,
   "outputs": [],
   "source": [
    "hypotheses = create_hypotheses(hypotheses_pages)"
   ],
   "metadata": {
    "collapsed": false
   }
  },
  {
   "cell_type": "markdown",
   "source": [
    "# Statistics Hypothesis 1"
   ],
   "metadata": {
    "collapsed": false
   }
  },
  {
   "cell_type": "code",
   "execution_count": 24,
   "outputs": [
    {
     "name": "stdout",
     "output_type": "stream",
     "text": [
      "Hypothesis: H1\n",
      "Expected answer given by: 38.89% , good? False p-value 1.000(std 0.24558865203471938 significant deviation? True\n",
      "Standard deviation within this group: 0.2456 \n",
      "\n",
      "Question: Is Alice’s comment relevant?\n",
      "Expected Answer given by: 22.222222%\n",
      "\n",
      " Alice’s comment is relevant. \n",
      "58% (42/72,(0.14,0.25),p=0.000)\n",
      " Alice’s comment is not relevant. EXPECTED ANSWER\n",
      "22% (16/72,(0.04,0.12),p=1.000)\n",
      " This cannot be assessed. \n",
      "19% (14/72,(0.04,0.11),p=1.000)\n",
      "\n",
      "\n",
      "Question: Is Bob’s comment relevant?\n",
      "Expected Answer given by: 20.833333%\n",
      "\n",
      " Bob’s comment is relevant. \n",
      "71% (51/72,(0.18,0.30),p=0.000)\n",
      " Bob’s comment is not relevant. EXPECTED ANSWER\n",
      "21% (15/72,(0.04,0.11),p=1.000)\n",
      " This cannot be assessed. \n",
      "8% (6/72,(0.01,0.06),p=1.000)\n",
      "\n",
      "\n",
      "Question: Is Charlie’s comment relevant?\n",
      "Expected Answer given by: 73.611111%\n",
      "\n",
      " Charlie’s comment is relevant. EXPECTED ANSWER\n",
      "74% (53/72,(0.19,0.31),p=0.000)\n",
      " Charlie’s comment is not relevant. \n",
      "22% (16/72,(0.04,0.12),p=1.000)\n",
      " This cannot be assessed. \n",
      "4% (3/72,(0.00,0.04),p=1.000)\n",
      "\n",
      "\n"
     ]
    }
   ],
   "source": [
    "hypotheses[\"H1\"].print_stats()"
   ],
   "metadata": {
    "collapsed": false
   }
  },
  {
   "cell_type": "markdown",
   "source": [
    "# Statistics Hypothesis 2"
   ],
   "metadata": {
    "collapsed": false
   }
  },
  {
   "cell_type": "code",
   "execution_count": 25,
   "outputs": [
    {
     "name": "stdout",
     "output_type": "stream",
     "text": [
      "Hypothesis: H2\n",
      "Expected answer given by: 55.56% , good? False p-value 0.020(std 0.04536092116265147 significant deviation? False\n",
      "Significance = 5%\n",
      "Standard deviation within this group: 0.0454 \n",
      "\n",
      "Question: Which comment is more relevant? Alice’s or Bob’s?\n",
      "Expected Answer given by: 61.111111%\n",
      "\n",
      " Alice‘s comment is more relevant than Bob’s. EXPECTED ANSWER\n",
      "61% (44/72,(0.15,0.26),p=0.000)\n",
      " Bob‘s comment is more relevant than Alice’s. \n",
      "22% (16/72,(0.04,0.12),p=1.000)\n",
      " Both comments are equally relevant. \n",
      "17% (12/72,(0.03,0.10),p=1.000)\n",
      "\n",
      "\n",
      "Question: Which comment is more relevant? Alice’s or Charlie’s?\n",
      "Expected Answer given by: 50.000000%\n",
      "\n",
      " Alice‘s comment is more relevant than Charlie’s. EXPECTED ANSWER\n",
      "50% (36/72,(0.12,0.22),p=0.020)\n",
      " Charlie’s comment is more relevant than Alice’s. \n",
      "21% (15/72,(0.04,0.11),p=0.999)\n",
      " Both comments are equally relevant. \n",
      "29% (21/72,(0.06,0.14),p=0.980)\n",
      "\n",
      "\n",
      "Question: Which comment is more relevant? Bob’s or Charlie’s?\n",
      "Expected Answer given by: 55.555556%\n",
      "\n",
      " Bob‘s comment is more relevant than Charlie’s. EXPECTED ANSWER\n",
      "56% (40/72,(0.14,0.24),p=0.013)\n",
      " Charlie’s comment is more relevant than Bob’s. \n",
      "32% (23/72,(0.07,0.16),p=0.987)\n",
      " Both comments are equally relevant. \n",
      "12% (9/72,(0.02,0.08),p=1.000)\n",
      "\n",
      "\n"
     ]
    }
   ],
   "source": [
    "hypotheses[\"H2\"].print_stats()"
   ],
   "metadata": {
    "collapsed": false
   }
  },
  {
   "cell_type": "markdown",
   "source": [
    "# Statistics Hypothesis 3"
   ],
   "metadata": {
    "collapsed": false
   }
  },
  {
   "cell_type": "code",
   "execution_count": 26,
   "outputs": [
    {
     "name": "stdout",
     "output_type": "stream",
     "text": [
      "Hypothesis: H3\n",
      "Expected answer given by: 61.11% , good? True p-value 0.000(std 0.011340230290662867 significant deviation? False\n",
      "Significance = 1%\n",
      "Standard deviation within this group: 0.0113 \n",
      "\n",
      "Question: Which comment is more relevant? Alice’s or Bob’s?\n",
      "Expected Answer given by: 59.722222%\n",
      "\n",
      " Alice‘s comment is more relevant than Bob’s. \n",
      "18% (13/72,(0.03,0.10),p=1.000)\n",
      " Bob’s comment is more relevant than Alice‘s. EXPECTED ANSWER\n",
      "60% (43/72,(0.15,0.26),p=0.000)\n",
      " Both comments are equally relevant. \n",
      "22% (16/72,(0.04,0.12),p=1.000)\n",
      "\n",
      "\n",
      "Question: Which comment is more relevant? Alice’s or Charlie’s?\n",
      "Expected Answer given by: 62.500000%\n",
      "\n",
      " Alice‘s comment is more relevant than Charlie’s. EXPECTED ANSWER\n",
      "62% (45/72,(0.16,0.27),p=0.000)\n",
      " Charlie‘s comment is more relevant than Alice’s. \n",
      "19% (14/72,(0.04,0.11),p=1.000)\n",
      " Both comments are equally relevant. \n",
      "18% (13/72,(0.03,0.10),p=1.000)\n",
      "\n",
      "\n",
      "Question: Which comment is more relevant? Bob’s or Charlie’s?\n",
      "Expected Answer given by: 61.111111%\n",
      "\n",
      " Bob‘s comment is more relevant than Charlie’s EXPECTED ANSWER\n",
      "61% (44/72,(0.15,0.26),p=0.000)\n",
      " Charlie‘s comment is more relevant than Bob’s. \n",
      "24% (17/72,(0.05,0.12),p=1.000)\n",
      " Both comments are equally relevant. \n",
      "15% (11/72,(0.03,0.09),p=1.000)\n",
      "\n",
      "\n"
     ]
    }
   ],
   "source": [
    "hypotheses[\"H3\"].print_stats()"
   ],
   "metadata": {
    "collapsed": false
   }
  },
  {
   "cell_type": "markdown",
   "source": [
    "# Statistics Hypothesis 4"
   ],
   "metadata": {
    "collapsed": false
   }
  },
  {
   "cell_type": "code",
   "execution_count": 27,
   "outputs": [
    {
     "name": "stdout",
     "output_type": "stream",
     "text": [
      "Hypothesis: H4\n",
      "Expected answer given by: 61.11% , good? True p-value 0.006(std 0.030003429159295644 significant deviation? False\n",
      "Significance = 1%\n",
      "Standard deviation within this group: 0.0300 \n",
      "\n",
      "Question: Which comment is more relevant? Alice’s or Bob’s?\n",
      "Expected Answer given by: 63.888889%\n",
      "\n",
      " Alice‘s comment is more relevant than Bob’s. \n",
      "19% (14/72,(0.04,0.11),p=1.000)\n",
      " Bob‘s comment is more relevant than Alice’s. EXPECTED ANSWER\n",
      "64% (46/72,(0.16,0.27),p=0.000)\n",
      " Both comments are equally relevant. \n",
      "17% (12/72,(0.03,0.10),p=1.000)\n",
      "\n",
      "\n",
      "Question: Which comment is more relevant? Alice’s or Charlie’s?\n",
      "Expected Answer given by: 62.500000%\n",
      "\n",
      " Alice‘s comment is more relevant than Charlie’s. \n",
      "22% (16/72,(0.04,0.12),p=1.000)\n",
      " Charlie‘s comment is more relevant than Alice’s. EXPECTED ANSWER\n",
      "62% (45/72,(0.16,0.27),p=0.000)\n",
      " Both comments are equally relevant. \n",
      "15% (11/72,(0.03,0.09),p=1.000)\n",
      "\n",
      "\n",
      "Question: Which comment is more relevant? Bob’s or Charlie’s?\n",
      "Expected Answer given by: 56.944444%\n",
      "\n",
      " Bob‘s comment is more relevant than Charlie’s. \n",
      "12% (9/72,(0.02,0.08),p=1.000)\n",
      " Charlie‘s comment is more relevant than Bob’s. EXPECTED ANSWER\n",
      "57% (41/72,(0.14,0.25),p=0.006)\n",
      " Both comments are equally relevant. \n",
      "31% (22/72,(0.06,0.15),p=0.994)\n",
      "\n",
      "\n"
     ]
    }
   ],
   "source": [
    "hypotheses[\"H4\"].print_stats()"
   ],
   "metadata": {
    "collapsed": false
   }
  },
  {
   "cell_type": "markdown",
   "source": [
    "# Statistics Hypothesis 5"
   ],
   "metadata": {
    "collapsed": false
   }
  },
  {
   "cell_type": "code",
   "execution_count": 28,
   "outputs": [
    {
     "name": "stdout",
     "output_type": "stream",
     "text": [
      "Hypothesis: H5\n",
      "Expected answer given by: 58.33% , good? True p-value 0.001(std 0.019641855032959635 significant deviation? False\n",
      "Significance = 1%\n",
      "Standard deviation within this group: 0.0196 \n",
      "\n",
      "Question: Which comment is more relevant? Alice’s or Bob’s?\n",
      "Expected Answer given by: 59.722222%\n",
      "\n",
      " Alice‘s comment is more relevant than Bob’s. EXPECTED ANSWER\n",
      "60% (43/72,(0.15,0.26),p=0.000)\n",
      " Bob‘s comment is more relevant than Alice’s. \n",
      "15% (11/72,(0.03,0.09),p=1.000)\n",
      " Both comments are equally relevant. \n",
      "25% (18/72,(0.05,0.13),p=1.000)\n",
      "\n",
      "\n",
      "Question: Which comment is more relevant? Alice’s or Charlie’s?\n",
      "Expected Answer given by: 55.555556%\n",
      "\n",
      " Alice‘s comment is more relevant than Charlie’s. EXPECTED ANSWER\n",
      "56% (40/72,(0.14,0.24),p=0.001)\n",
      " Charlie‘s comment is more relevant than Alice’s. \n",
      "19% (14/72,(0.04,0.11),p=1.000)\n",
      " Both comments are equally relevant. \n",
      "25% (18/72,(0.05,0.13),p=0.999)\n",
      "\n",
      "\n",
      "Question: Which comment is more relevant? Bob’s or Charlie’s?\n",
      "Expected Answer given by: 59.722222%\n",
      "\n",
      " Bob‘s comment is more relevant than Charlie’s. EXPECTED ANSWER\n",
      "60% (43/72,(0.15,0.26),p=0.000)\n",
      " Charlie‘s comment is more relevant than Bob’s. \n",
      "15% (11/72,(0.03,0.09),p=1.000)\n",
      " Both comments are equally relevant. \n",
      "25% (18/72,(0.05,0.13),p=1.000)\n",
      "\n",
      "\n"
     ]
    }
   ],
   "source": [
    "hypotheses[\"H5\"].print_stats()"
   ],
   "metadata": {
    "collapsed": false
   }
  },
  {
   "cell_type": "markdown",
   "source": [
    "# Statistics Hypothesis 6"
   ],
   "metadata": {
    "collapsed": false
   }
  },
  {
   "cell_type": "code",
   "execution_count": 29,
   "outputs": [
    {
     "name": "stdout",
     "output_type": "stream",
     "text": [
      "Hypothesis: H6\n",
      "Expected answer given by: 49.07% , good? False p-value 0.719(std 0.13289537124451226 significant deviation? True\n",
      "Standard deviation within this group: 0.1329 \n",
      "\n",
      "Question: Which comment is more relevant? Alice’s or Bob’s?\n",
      "Expected Answer given by: 61.111111%\n",
      "\n",
      " Alice‘s comment is more relevant than Bob’s. \n",
      "24% (17/72,(0.05,0.12),p=1.000)\n",
      " Bob‘s comment is more relevant than Alice’s. EXPECTED ANSWER\n",
      "61% (44/72,(0.15,0.26),p=0.000)\n",
      " Both comments are equally relevant. \n",
      "15% (11/72,(0.03,0.09),p=1.000)\n",
      "\n",
      "\n",
      "Question: Which comment is more relevant? Alice’s or Charlie’s?\n",
      "Expected Answer given by: 55.555556%\n",
      "\n",
      " Alice‘s comment is more relevant than Charlie’s. \n",
      "28% (20/72,(0.06,0.14),p=0.997)\n",
      " Charlie‘s comment is more relevant than Alice’s. EXPECTED ANSWER\n",
      "56% (40/72,(0.14,0.24),p=0.003)\n",
      " Both comments are equally relevant. \n",
      "17% (12/72,(0.03,0.10),p=1.000)\n",
      "\n",
      "\n",
      "Question: Which comment is more relevant? Bob’s or Charlie’s?\n",
      "Expected Answer given by: 30.555556%\n",
      "\n",
      " Bob‘s comment is more relevant than Charlie’s. \n",
      "36% (26/72,(0.08,0.17),p=0.389)\n",
      " Charlie‘s comment is more relevant than Bob’s. EXPECTED ANSWER\n",
      "31% (22/72,(0.06,0.15),p=0.719)\n",
      " Both comments are equally relevant. \n",
      "33% (24/72,(0.07,0.16),p=0.611)\n",
      "\n",
      "\n"
     ]
    }
   ],
   "source": [
    "hypotheses[\"H6\"].print_stats()"
   ],
   "metadata": {
    "collapsed": false
   }
  },
  {
   "cell_type": "markdown",
   "source": [
    "# Statistics Hypothesis 7"
   ],
   "metadata": {
    "collapsed": false
   }
  },
  {
   "cell_type": "code",
   "execution_count": 30,
   "outputs": [
    {
     "name": "stdout",
     "output_type": "stream",
     "text": [
      "Hypothesis: H7\n",
      "Expected answer given by: 54.63% , good? False p-value 0.136(std 0.10289866097635587 significant deviation? True\n",
      "Standard deviation within this group: 0.1029 \n",
      "\n",
      "Question: Which comment is more relevant? Alice’s or Bob’s?\n",
      "Expected Answer given by: 68.055556%\n",
      "\n",
      " Alice‘s comment is more relevant than Bob’s. EXPECTED ANSWER\n",
      "68% (49/72,(0.17,0.29),p=0.000)\n",
      " Bob‘s comment is more relevant than Alice’s. \n",
      "12% (9/72,(0.02,0.08),p=1.000)\n",
      " Both comments are equally relevant. \n",
      "19% (14/72,(0.04,0.11),p=1.000)\n",
      "\n",
      "\n",
      "Question: Which comment is more relevant? Alice’s or Charlie’s?\n",
      "Expected Answer given by: 43.055556%\n",
      "\n",
      " Alice‘s comment is more relevant than Charlie’s. \n",
      "32% (23/72,(0.07,0.16),p=0.864)\n",
      " Charlie‘s comment is more relevant than Alice’s. EXPECTED ANSWER\n",
      "43% (31/72,(0.10,0.20),p=0.136)\n",
      " Both comments are equally relevant. \n",
      "25% (18/72,(0.05,0.13),p=0.971)\n",
      "\n",
      "\n",
      "Question: Which comment is more relevant? Bob’s or Charlie’s?\n",
      "Expected Answer given by: 52.777778%\n",
      "\n",
      " Bob‘s comment is more relevant than Charlie’s. \n",
      "24% (17/72,(0.05,0.12),p=0.999)\n",
      " Charlie‘s comment is more relevant than Bob’s. EXPECTED ANSWER\n",
      "53% (38/72,(0.13,0.23),p=0.001)\n",
      " Both comments are equally relevant. \n",
      "24% (17/72,(0.05,0.12),p=0.999)\n",
      "\n",
      "\n"
     ]
    }
   ],
   "source": [
    "hypotheses[\"H7\"].print_stats()"
   ],
   "metadata": {
    "collapsed": false
   }
  },
  {
   "cell_type": "markdown",
   "source": [
    "# Statistics Hypothesis 8"
   ],
   "metadata": {
    "collapsed": false
   }
  },
  {
   "cell_type": "code",
   "execution_count": 31,
   "outputs": [
    {
     "name": "stdout",
     "output_type": "stream",
     "text": [
      "Hypothesis: H8\n",
      "Expected answer given by: 50.93% , good? False p-value 0.500(std 0.10289866097635587 significant deviation? True\n",
      "Standard deviation within this group: 0.1029 \n",
      "\n",
      "Question: Which comment is more relevant? Alice’s or Bob’s?\n",
      "Expected Answer given by: 52.777778%\n",
      "\n",
      " Alice‘s comment is more relevant than Bob’s. \n",
      "25% (18/72,(0.05,0.13),p=0.998)\n",
      " Bob‘s comment is more relevant than Alice’s. EXPECTED ANSWER\n",
      "53% (38/72,(0.13,0.23),p=0.002)\n",
      " Both comments are equally relevant. \n",
      "22% (16/72,(0.04,0.12),p=0.999)\n",
      "\n",
      "\n",
      "Question: Which comment is more relevant? Alice’s or Charlie’s?\n",
      "Expected Answer given by: 62.500000%\n",
      "\n",
      " Alice‘s comment is more relevant than Charlie’s. \n",
      "22% (16/72,(0.04,0.12),p=1.000)\n",
      " Charlie‘s comment is more relevant than Alice’s. EXPECTED ANSWER\n",
      "62% (45/72,(0.16,0.27),p=0.000)\n",
      " Both comments are equally relevant. \n",
      "15% (11/72,(0.03,0.09),p=1.000)\n",
      "\n",
      "\n",
      "Question: Which comment is more relevant? Bob’s or Charlie’s?\n",
      "Expected Answer given by: 37.500000%\n",
      "\n",
      " Bob‘s comment is more relevant than Charlie’s. \n",
      "25% (18/72,(0.05,0.13),p=0.913)\n",
      " Charlie‘s comment is more relevant than Bob’s. \n",
      "38% (27/72,(0.08,0.18),p=0.500)\n",
      " Both comments are equally relevant. EXPECTED ANSWER\n",
      "38% (27/72,(0.08,0.18),p=0.500)\n",
      "\n",
      "\n"
     ]
    }
   ],
   "source": [
    "hypotheses[\"H8\"].print_stats()"
   ],
   "metadata": {
    "collapsed": false
   }
  },
  {
   "cell_type": "markdown",
   "source": [
    "# Statistics Hypothesis 9"
   ],
   "metadata": {
    "collapsed": false
   }
  },
  {
   "cell_type": "code",
   "execution_count": 32,
   "outputs": [
    {
     "name": "stdout",
     "output_type": "stream",
     "text": [
      "Hypothesis: H9\n",
      "Expected answer given by: 30.09% , good? False p-value 0.996(std 0.06835566231589538 significant deviation? True\n",
      "Standard deviation within this group: 0.0684 \n",
      "\n",
      "Question: Which comment is more relevant? Alice’s or Bob’s?\n",
      "Expected Answer given by: 22.222222%\n",
      "\n",
      " Alice‘s comment is more relevant than Bob’s. \n",
      "47% (34/72,(0.11,0.21),p=0.051)\n",
      " Bob‘s comment is more relevant than Alice’s. EXPECTED ANSWER\n",
      "22% (16/72,(0.04,0.12),p=0.996)\n",
      " Both comments are equally relevant. \n",
      "31% (22/72,(0.06,0.15),p=0.949)\n",
      "\n",
      "\n",
      "Question: Which comment is more relevant? Alice’s or Charlie’s?\n",
      "Expected Answer given by: 29.166667%\n",
      "\n",
      " Alice‘s comment is more relevant than Charlie’s. \n",
      "43% (31/72,(0.10,0.20),p=0.080)\n",
      " Charlie‘s comment is more relevant than Alice’s. EXPECTED ANSWER\n",
      "29% (21/72,(0.06,0.14),p=0.920)\n",
      " Both comments are equally relevant. \n",
      "28% (20/72,(0.06,0.14),p=0.941)\n",
      "\n",
      "\n",
      "Question: Which comment is more relevant? Bob’s or Charlie’s?\n",
      "Expected Answer given by: 38.888889%\n",
      "\n",
      " Bob‘s comment is more relevant than Charlie’s. \n",
      "25% (18/72,(0.05,0.13),p=0.933)\n",
      " Charlie‘s comment is more relevant than Bob’s. EXPECTED ANSWER\n",
      "39% (28/72,(0.09,0.18),p=0.393)\n",
      " Both comments are equally relevant. \n",
      "36% (26/72,(0.08,0.17),p=0.607)\n",
      "\n",
      "\n"
     ]
    }
   ],
   "source": [
    "hypotheses[\"H9\"].print_stats()"
   ],
   "metadata": {
    "collapsed": false
   }
  },
  {
   "cell_type": "markdown",
   "source": [
    "# Statistics Hypothesis 10"
   ],
   "metadata": {
    "collapsed": false
   }
  },
  {
   "cell_type": "code",
   "execution_count": 33,
   "outputs": [
    {
     "name": "stdout",
     "output_type": "stream",
     "text": [
      "Hypothesis: H10\n",
      "Expected answer given by: 60.65% , good? True p-value 0.000(std 0.017322487901731198 significant deviation? False\n",
      "Significance = 1%\n",
      "Standard deviation within this group: 0.0173 \n",
      "\n",
      "Question: Which comment is more relevant? Alice’s or Bob’s?\n",
      "Expected Answer given by: 58.333333%\n",
      "\n",
      " Alice‘s comment is more relevant than Bob’s. \n",
      "21% (15/72,(0.04,0.11),p=1.000)\n",
      " Bob‘s comment is more relevant than Alice’s. EXPECTED ANSWER\n",
      "58% (42/72,(0.14,0.25),p=0.000)\n",
      " Both comments are equally relevant. \n",
      "21% (15/72,(0.04,0.11),p=1.000)\n",
      "\n",
      "\n",
      "Question: Which comment is more relevant? Alice’s or Charlie’s?\n",
      "Expected Answer given by: 61.111111%\n",
      "\n",
      " Alice‘s comment is more relevant than Charlie’s. EXPECTED ANSWER\n",
      "61% (44/72,(0.15,0.26),p=0.000)\n",
      " Charlie‘s comment is more relevant than Alice’s. \n",
      "14% (10/72,(0.02,0.08),p=1.000)\n",
      " Both comments are equally relevant. \n",
      "25% (18/72,(0.05,0.13),p=1.000)\n",
      "\n",
      "\n",
      "Question: Which comment is more relevant? Bob’s or Charlie’s?\n",
      "Expected Answer given by: 62.500000%\n",
      "\n",
      " Bob‘s comment is more relevant than Charlie’s. EXPECTED ANSWER\n",
      "62% (45/72,(0.16,0.27),p=0.000)\n",
      " Charlie‘s comment is more relevant than Bob’s. \n",
      "15% (11/72,(0.03,0.09),p=1.000)\n",
      " Both comments are equally relevant. \n",
      "22% (16/72,(0.04,0.12),p=1.000)\n",
      "\n",
      "\n"
     ]
    }
   ],
   "source": [
    "hypotheses[\"H10\"].print_stats()"
   ],
   "metadata": {
    "collapsed": false
   }
  },
  {
   "cell_type": "markdown",
   "source": [
    "# Statistics Hypothesis 11"
   ],
   "metadata": {
    "collapsed": false
   }
  },
  {
   "cell_type": "code",
   "execution_count": 34,
   "outputs": [
    {
     "name": "stdout",
     "output_type": "stream",
     "text": [
      "Hypothesis: H11\n",
      "Expected answer given by: 54.63% , good? False p-value 0.012(std 0.042933418960628265 significant deviation? False\n",
      "Significance = 5%\n",
      "Standard deviation within this group: 0.0429 \n",
      "\n",
      "Question: Which comment is more relevant? Alice’s or Bob’s?\n",
      "Expected Answer given by: 56.944444%\n",
      "\n",
      " Alice‘s comment is more relevant than Bob’s. \n",
      "26% (19/72,(0.05,0.13),p=0.999)\n",
      " Bob‘s comment is more relevant than Alice’s. EXPECTED ANSWER\n",
      "57% (41/72,(0.14,0.25),p=0.001)\n",
      " Both comments are equally relevant. \n",
      "17% (12/72,(0.03,0.10),p=1.000)\n",
      "\n",
      "\n",
      "Question: Which comment is more relevant? Alice’s or Charlie’s?\n",
      "Expected Answer given by: 58.333333%\n",
      "\n",
      " Alice‘s comment is more relevant than Charlie’s. \n",
      "28% (20/72,(0.06,0.14),p=0.998)\n",
      " Charlie‘s comment is more relevant than Alice’s. EXPECTED ANSWER\n",
      "58% (42/72,(0.14,0.25),p=0.002)\n",
      " Both comments are equally relevant. \n",
      "14% (10/72,(0.02,0.08),p=1.000)\n",
      "\n",
      "\n",
      "Question: Which comment is more relevant? Bob’s or Charlie’s?\n",
      "Expected Answer given by: 48.611111%\n",
      "\n",
      " Bob‘s comment is more relevant than Charlie’s. \n",
      "25% (18/72,(0.05,0.13),p=0.992)\n",
      " Charlie‘s comment is more relevant than Bob’s. EXPECTED ANSWER\n",
      "49% (35/72,(0.12,0.22),p=0.012)\n",
      " Both comments are equally relevant. \n",
      "26% (19/72,(0.05,0.13),p=0.988)\n",
      "\n",
      "\n"
     ]
    }
   ],
   "source": [
    "hypotheses[\"H11\"].print_stats()"
   ],
   "metadata": {
    "collapsed": false
   }
  },
  {
   "cell_type": "markdown",
   "source": [
    "# Statistics Hypothesis 12"
   ],
   "metadata": {
    "collapsed": false
   }
  },
  {
   "cell_type": "code",
   "execution_count": 35,
   "outputs": [
    {
     "name": "stdout",
     "output_type": "stream",
     "text": [
      "Hypothesis: H12\n",
      "Expected answer given by: 52.31% , good? False p-value 0.034(std 0.06448327906103762 significant deviation? False\n",
      "Significance = 5%\n",
      "Standard deviation within this group: 0.0645 \n",
      "\n",
      "Question: Which comment is more relevant? Alice’s or Bob’s?\n",
      "Expected Answer given by: 61.111111%\n",
      "\n",
      " Alice‘s comment is more relevant than Bob’s. EXPECTED ANSWER\n",
      "61% (44/72,(0.15,0.26),p=0.000)\n",
      " Bob‘s comment is more relevant than Alice’s. \n",
      "17% (12/72,(0.03,0.10),p=1.000)\n",
      " Both comments are equally relevant. \n",
      "22% (16/72,(0.04,0.12),p=1.000)\n",
      "\n",
      "\n",
      "Question: Which comment is more relevant? Alice’s or Charlie’s?\n",
      "Expected Answer given by: 45.833333%\n",
      "\n",
      " Alice‘s comment is more relevant than Charlie’s. EXPECTED ANSWER\n",
      "46% (33/72,(0.11,0.21),p=0.034)\n",
      " Charlie‘s comment is more relevant than Alice’s. \n",
      "26% (19/72,(0.05,0.13),p=0.977)\n",
      " Both comments are equally relevant. \n",
      "28% (20/72,(0.06,0.14),p=0.966)\n",
      "\n",
      "\n",
      "Question: Which comment is more relevant? Bob’s or Charlie’s?\n",
      "Expected Answer given by: 50.000000%\n",
      "\n",
      " Bob‘s comment is more relevant than Charlie’s. \n",
      "26% (19/72,(0.05,0.13),p=0.991)\n",
      " Charlie‘s comment is more relevant than Bob’s. EXPECTED ANSWER\n",
      "50% (36/72,(0.12,0.22),p=0.009)\n",
      " Both comments are equally relevant. \n",
      "24% (17/72,(0.05,0.12),p=0.997)\n",
      "\n",
      "\n"
     ]
    }
   ],
   "source": [
    "hypotheses[\"H12\"].print_stats()"
   ],
   "metadata": {
    "collapsed": false
   }
  },
  {
   "cell_type": "markdown",
   "source": [
    "# Statistics Hypothesis 13"
   ],
   "metadata": {
    "collapsed": false
   }
  },
  {
   "cell_type": "code",
   "execution_count": 36,
   "outputs": [
    {
     "name": "stdout",
     "output_type": "stream",
     "text": [
      "Hypothesis: H13\n",
      "Expected answer given by: 56.48% , good? False p-value 0.118(std 0.06644768562225613 significant deviation? False\n",
      "Standard deviation within this group: 0.0664 \n",
      "\n",
      "Question: Which comment is more relevant? Alice’s or Bob’s?\n",
      "Expected Answer given by: 59.722222%\n",
      "\n",
      " Alice‘s comment is more relevant than Bob’s. \n",
      "21% (15/72,(0.04,0.11),p=1.000)\n",
      " Bob‘s comment is more relevant than Alice’s. EXPECTED ANSWER\n",
      "60% (43/72,(0.15,0.26),p=0.000)\n",
      " Both comments are equally relevant. \n",
      "19% (14/72,(0.04,0.11),p=1.000)\n",
      "\n",
      "\n",
      "Question: Which comment is more relevant? Alice’s or Charlie’s?\n",
      "Expected Answer given by: 62.500000%\n",
      "\n",
      " Alice‘s comment is more relevant than Charlie’s. \n",
      "25% (18/72,(0.05,0.13),p=1.000)\n",
      " Charlie‘s comment is more relevant than Alice’s. EXPECTED ANSWER\n",
      "62% (45/72,(0.16,0.27),p=0.000)\n",
      " Both comments are equally relevant. \n",
      "12% (9/72,(0.02,0.08),p=1.000)\n",
      "\n",
      "\n",
      "Question: Which comment is more relevant? Bob’s or Charlie’s?\n",
      "Expected Answer given by: 47.222222%\n",
      "\n",
      " Bob‘s comment is more relevant than Charlie’s. EXPECTED ANSWER\n",
      "47% (34/72,(0.11,0.21),p=0.118)\n",
      " Charlie‘s comment is more relevant than Bob’s. \n",
      "18% (13/72,(0.03,0.10),p=0.999)\n",
      " Both comments are equally relevant. \n",
      "35% (25/72,(0.08,0.17),p=0.882)\n",
      "\n",
      "\n"
     ]
    }
   ],
   "source": [
    "hypotheses[\"H13\"].print_stats()"
   ],
   "metadata": {
    "collapsed": false
   }
  },
  {
   "cell_type": "markdown",
   "source": [
    "# Hypothesis 14 - Statistics"
   ],
   "metadata": {
    "collapsed": false
   }
  },
  {
   "cell_type": "code",
   "execution_count": 37,
   "outputs": [
    {
     "name": "stdout",
     "output_type": "stream",
     "text": [
      "Hypothesis: H14\n",
      "Expected answer given by: 32.41% , good? False p-value 0.999(std 0.13529295552039308 significant deviation? True\n",
      "Standard deviation within this group: 0.1353 \n",
      "\n",
      "Question: Which comment is more relevant? Alice’s or Bob’s?\n",
      "Expected Answer given by: 25.000000%\n",
      "\n",
      " Alice‘s comment is more relevant than Bob’s. \n",
      "40% (29/72,(0.09,0.19),p=0.293)\n",
      " Bob‘s comment is more relevant than Alice’s. EXPECTED ANSWER\n",
      "25% (18/72,(0.05,0.13),p=0.949)\n",
      " Both comments are equally relevant. \n",
      "35% (25/72,(0.08,0.17),p=0.707)\n",
      "\n",
      "\n",
      "Question: Which comment is more relevant? Alice’s or Charlie’s?\n",
      "Expected Answer given by: 51.388889%\n",
      "\n",
      " Alice‘s comment is more relevant than Charlie’s. \n",
      "19% (14/72,(0.04,0.11),p=1.000)\n",
      " Charlie‘s comment is more relevant than Alice’s. EXPECTED ANSWER\n",
      "51% (37/72,(0.12,0.23),p=0.015)\n",
      " Both comments are equally relevant. \n",
      "29% (21/72,(0.06,0.14),p=0.985)\n",
      "\n",
      "\n",
      "Question: Which comment is more relevant? Bob’s or Charlie’s?\n",
      "Expected Answer given by: 20.833333%\n",
      "\n",
      " Bob‘s comment is more relevant than Charlie’s. \n",
      "28% (20/72,(0.06,0.14),p=0.990)\n",
      " Charlie‘s comment is more relevant than Bob’s. \n",
      "51% (37/72,(0.12,0.23),p=0.010)\n",
      " Both comments are equally relevant. EXPECTED ANSWER\n",
      "21% (15/72,(0.04,0.11),p=0.999)\n",
      "\n",
      "\n"
     ]
    }
   ],
   "source": [
    "hypotheses[\"H14\"].print_stats()"
   ],
   "metadata": {
    "collapsed": false
   }
  },
  {
   "cell_type": "markdown",
   "source": [
    "# Demographic Questions"
   ],
   "metadata": {
    "collapsed": false
   }
  },
  {
   "cell_type": "markdown",
   "source": [
    "## Gender"
   ],
   "metadata": {
    "collapsed": false
   }
  },
  {
   "cell_type": "code",
   "execution_count": 38,
   "outputs": [
    {
     "name": "stdout",
     "output_type": "stream",
     "text": [
      "Male: 15\n",
      "Female: 21\n",
      "Diverse: 0\n",
      "Different: 0\n",
      "Not Specified: 0\n"
     ]
    }
   ],
   "source": [
    "print_demographic(hypotheses_pages, \"gender\")"
   ],
   "metadata": {
    "collapsed": false
   }
  },
  {
   "cell_type": "markdown",
   "source": [
    "## Age"
   ],
   "metadata": {
    "collapsed": false
   }
  },
  {
   "cell_type": "code",
   "execution_count": 39,
   "outputs": [
    {
     "name": "stdout",
     "output_type": "stream",
     "text": [
      "<20: 0\n",
      "20-29: 10\n",
      "30-39: 19\n",
      "40-49: 3\n",
      "50-59: 3\n",
      "60-69: 1\n"
     ]
    }
   ],
   "source": [
    "print_demographic(hypotheses_pages, \"age\")"
   ],
   "metadata": {
    "collapsed": false
   }
  },
  {
   "cell_type": "markdown",
   "source": [
    "## Education"
   ],
   "metadata": {
    "collapsed": false
   }
  },
  {
   "cell_type": "code",
   "execution_count": 40,
   "outputs": [
    {
     "name": "stdout",
     "output_type": "stream",
     "text": [
      "No degree: 0\n",
      "High-School: 7\n",
      "College Degree: 10\n",
      "Graduate Degree: 19\n",
      "Not Specified: 0\n"
     ]
    }
   ],
   "source": [
    "print_demographic(hypotheses_pages, \"education\")"
   ],
   "metadata": {
    "collapsed": false
   }
  },
  {
   "cell_type": "code",
   "execution_count": 40,
   "outputs": [],
   "source": [],
   "metadata": {
    "collapsed": false
   }
  }
 ],
 "metadata": {
  "kernelspec": {
   "display_name": "Python 3",
   "language": "python",
   "name": "python3"
  },
  "language_info": {
   "codemirror_mode": {
    "name": "ipython",
    "version": 2
   },
   "file_extension": ".py",
   "mimetype": "text/x-python",
   "name": "python",
   "nbconvert_exporter": "python",
   "pygments_lexer": "ipython2",
   "version": "2.7.6"
  }
 },
 "nbformat": 4,
 "nbformat_minor": 0
}
